{
 "cells": [
  {
   "cell_type": "markdown",
   "id": "b8843c19",
   "metadata": {},
   "source": [
    "# Hypothesis_Testing_Assignment"
   ]
  },
  {
   "cell_type": "markdown",
   "id": "11c9f08c",
   "metadata": {
    "ExecuteTime": {
     "end_time": "2022-09-13T09:43:29.997983Z",
     "start_time": "2022-09-13T09:43:29.978660Z"
    }
   },
   "source": [
    "Hypothesis Testing\n",
    "1. Define H0, H1\n",
    "2. Identify test to validate H0\n",
    "3. Decide alpha\n",
    "4. Calculate p value\n",
    "5. If p < alpha then reject H0, vice versa"
   ]
  },
  {
   "cell_type": "markdown",
   "id": "140d723c",
   "metadata": {},
   "source": [
    "### 1. A F&B manager wants to determine whether there is any significant difference in the diameter of the cutlet between two units. A randomly selected sample of cutlets was collected from both units and measured? Analyze the data and draw inferences at 5% significance level. Please state the assumptions and tests that you carried out to check validity of the assumptions.\n"
   ]
  },
  {
   "cell_type": "code",
   "execution_count": 1,
   "id": "0777068c",
   "metadata": {
    "ExecuteTime": {
     "end_time": "2022-09-17T07:40:53.244765Z",
     "start_time": "2022-09-17T07:40:52.205980Z"
    }
   },
   "outputs": [],
   "source": [
    "import pandas as pd \n",
    "import numpy as np\n",
    "import scipy.stats as stats "
   ]
  },
  {
   "cell_type": "code",
   "execution_count": 2,
   "id": "74e1bfab",
   "metadata": {
    "ExecuteTime": {
     "end_time": "2022-09-17T07:40:53.275147Z",
     "start_time": "2022-09-17T07:40:53.244765Z"
    }
   },
   "outputs": [
    {
     "data": {
      "text/html": [
       "<div>\n",
       "<style scoped>\n",
       "    .dataframe tbody tr th:only-of-type {\n",
       "        vertical-align: middle;\n",
       "    }\n",
       "\n",
       "    .dataframe tbody tr th {\n",
       "        vertical-align: top;\n",
       "    }\n",
       "\n",
       "    .dataframe thead th {\n",
       "        text-align: right;\n",
       "    }\n",
       "</style>\n",
       "<table border=\"1\" class=\"dataframe\">\n",
       "  <thead>\n",
       "    <tr style=\"text-align: right;\">\n",
       "      <th></th>\n",
       "      <th>Unit A</th>\n",
       "      <th>Unit B</th>\n",
       "    </tr>\n",
       "  </thead>\n",
       "  <tbody>\n",
       "    <tr>\n",
       "      <th>0</th>\n",
       "      <td>6.8090</td>\n",
       "      <td>6.7703</td>\n",
       "    </tr>\n",
       "    <tr>\n",
       "      <th>1</th>\n",
       "      <td>6.4376</td>\n",
       "      <td>7.5093</td>\n",
       "    </tr>\n",
       "    <tr>\n",
       "      <th>2</th>\n",
       "      <td>6.9157</td>\n",
       "      <td>6.7300</td>\n",
       "    </tr>\n",
       "    <tr>\n",
       "      <th>3</th>\n",
       "      <td>7.3012</td>\n",
       "      <td>6.7878</td>\n",
       "    </tr>\n",
       "    <tr>\n",
       "      <th>4</th>\n",
       "      <td>7.4488</td>\n",
       "      <td>7.1522</td>\n",
       "    </tr>\n",
       "  </tbody>\n",
       "</table>\n",
       "</div>"
      ],
      "text/plain": [
       "   Unit A  Unit B\n",
       "0  6.8090  6.7703\n",
       "1  6.4376  7.5093\n",
       "2  6.9157  6.7300\n",
       "3  7.3012  6.7878\n",
       "4  7.4488  7.1522"
      ]
     },
     "execution_count": 2,
     "metadata": {},
     "output_type": "execute_result"
    }
   ],
   "source": [
    "df=pd.read_csv(\"Cutlets.csv\")\n",
    "df.head()"
   ]
  },
  {
   "cell_type": "markdown",
   "id": "9219eb6a",
   "metadata": {},
   "source": [
    "H0= No significant difference in the average size of cutlet\n",
    "\n",
    "H1= significant difference in the average size of cutlet"
   ]
  },
  {
   "cell_type": "markdown",
   "id": "9b9307e6",
   "metadata": {},
   "source": [
    " Two tailed, 2_sample t test"
   ]
  },
  {
   "cell_type": "markdown",
   "id": "40c7d1e0",
   "metadata": {},
   "source": [
    "For a two-tailed 95% confidence interval, significance level is 5% & the alpha value is 0.025"
   ]
  },
  {
   "cell_type": "code",
   "execution_count": 3,
   "id": "fb95bd66",
   "metadata": {
    "ExecuteTime": {
     "end_time": "2022-09-17T07:40:53.291130Z",
     "start_time": "2022-09-17T07:40:53.275147Z"
    }
   },
   "outputs": [],
   "source": [
    "unitA= pd.Series(df[\"Unit A\"])\n",
    "unitB=pd.Series(df[\"Unit B\"])"
   ]
  },
  {
   "cell_type": "code",
   "execution_count": 4,
   "id": "811ab3cd",
   "metadata": {
    "ExecuteTime": {
     "end_time": "2022-09-17T07:40:53.322966Z",
     "start_time": "2022-09-17T07:40:53.294717Z"
    }
   },
   "outputs": [
    {
     "data": {
      "text/plain": [
       "Ttest_indResult(statistic=0.7228688704678063, pvalue=0.4722394724599501)"
      ]
     },
     "execution_count": 4,
     "metadata": {},
     "output_type": "execute_result"
    }
   ],
   "source": [
    "stats.ttest_ind(unitA , unitB) "
   ]
  },
  {
   "cell_type": "markdown",
   "id": "fe7e6ffb",
   "metadata": {},
   "source": [
    "Scipy.stats.ttest gives two tail test p value so accept as it is\n",
    "as p value(0.47) > alpha(0.025) -> We fail to reject null hypothese due to lack of evidence->No significant difference in sizes of cutlet"
   ]
  },
  {
   "cell_type": "code",
   "execution_count": 5,
   "id": "ce87dae5",
   "metadata": {
    "ExecuteTime": {
     "end_time": "2022-09-17T07:40:53.341535Z",
     "start_time": "2022-09-17T07:40:53.322966Z"
    }
   },
   "outputs": [
    {
     "name": "stdout",
     "output_type": "stream",
     "text": [
      " We fail to reject null hypothesis due to lack of evidence, \n",
      " Hence there is no significant difference in the average size of cutlet\n"
     ]
    }
   ],
   "source": [
    "if stats.ttest_ind(unitA , unitB)[1] > 0.025 :\n",
    "    print(\" We fail to reject null hypothesis due to lack of evidence, \\n Hence there is no significant difference in the average size of cutlet\")\n",
    "\n",
    "else: \n",
    "    print(\"We reject null hypothesis\")\n",
    "     "
   ]
  },
  {
   "cell_type": "markdown",
   "id": "d0e212d6",
   "metadata": {},
   "source": [
    "### 2. A hospital wants to determine whether there is any difference in the average Turn Around Time (TAT) of reports of the laboratories on their preferred list. They collected a random sample and recorded TAT for reports of 4 laboratories. TAT is defined as sample collected to report dispatch. Analyze the data and determine whether there is any difference in average TAT among the different laboratories at 5% significance level.\n",
    " \n",
    " \n"
   ]
  },
  {
   "cell_type": "code",
   "execution_count": 6,
   "id": "8e3290c2",
   "metadata": {
    "ExecuteTime": {
     "end_time": "2022-09-17T07:40:53.376137Z",
     "start_time": "2022-09-17T07:40:53.341535Z"
    }
   },
   "outputs": [
    {
     "data": {
      "text/html": [
       "<div>\n",
       "<style scoped>\n",
       "    .dataframe tbody tr th:only-of-type {\n",
       "        vertical-align: middle;\n",
       "    }\n",
       "\n",
       "    .dataframe tbody tr th {\n",
       "        vertical-align: top;\n",
       "    }\n",
       "\n",
       "    .dataframe thead th {\n",
       "        text-align: right;\n",
       "    }\n",
       "</style>\n",
       "<table border=\"1\" class=\"dataframe\">\n",
       "  <thead>\n",
       "    <tr style=\"text-align: right;\">\n",
       "      <th></th>\n",
       "      <th>Laboratory 1</th>\n",
       "      <th>Laboratory 2</th>\n",
       "      <th>Laboratory 3</th>\n",
       "      <th>Laboratory 4</th>\n",
       "    </tr>\n",
       "  </thead>\n",
       "  <tbody>\n",
       "    <tr>\n",
       "      <th>0</th>\n",
       "      <td>185.35</td>\n",
       "      <td>165.53</td>\n",
       "      <td>176.70</td>\n",
       "      <td>166.13</td>\n",
       "    </tr>\n",
       "    <tr>\n",
       "      <th>1</th>\n",
       "      <td>170.49</td>\n",
       "      <td>185.91</td>\n",
       "      <td>198.45</td>\n",
       "      <td>160.79</td>\n",
       "    </tr>\n",
       "    <tr>\n",
       "      <th>2</th>\n",
       "      <td>192.77</td>\n",
       "      <td>194.92</td>\n",
       "      <td>201.23</td>\n",
       "      <td>185.18</td>\n",
       "    </tr>\n",
       "    <tr>\n",
       "      <th>3</th>\n",
       "      <td>177.33</td>\n",
       "      <td>183.00</td>\n",
       "      <td>199.61</td>\n",
       "      <td>176.42</td>\n",
       "    </tr>\n",
       "    <tr>\n",
       "      <th>4</th>\n",
       "      <td>193.41</td>\n",
       "      <td>169.57</td>\n",
       "      <td>204.63</td>\n",
       "      <td>152.60</td>\n",
       "    </tr>\n",
       "  </tbody>\n",
       "</table>\n",
       "</div>"
      ],
      "text/plain": [
       "   Laboratory 1  Laboratory 2  Laboratory 3  Laboratory 4\n",
       "0        185.35        165.53        176.70        166.13\n",
       "1        170.49        185.91        198.45        160.79\n",
       "2        192.77        194.92        201.23        185.18\n",
       "3        177.33        183.00        199.61        176.42\n",
       "4        193.41        169.57        204.63        152.60"
      ]
     },
     "execution_count": 6,
     "metadata": {},
     "output_type": "execute_result"
    }
   ],
   "source": [
    "df1= pd.read_csv(\"LabTAT.csv\")\n",
    "df1.head()"
   ]
  },
  {
   "cell_type": "markdown",
   "id": "65899ab3",
   "metadata": {},
   "source": [
    "H0= No significant difference in average TAT of reports from these 4 labs\n",
    "\n",
    "H1= At least one of these 4 labs have Significantly different average TAT of reports from others."
   ]
  },
  {
   "cell_type": "markdown",
   "id": "acdc3419",
   "metadata": {},
   "source": [
    "Anova Test on 4 samples"
   ]
  },
  {
   "cell_type": "markdown",
   "id": "2d4364fb",
   "metadata": {},
   "source": [
    "For a two-tailed 95% confidence interval, significance level is 5% & the alpha value is 0.025"
   ]
  },
  {
   "cell_type": "code",
   "execution_count": 7,
   "id": "e0631bd4",
   "metadata": {
    "ExecuteTime": {
     "end_time": "2022-09-17T07:40:53.391083Z",
     "start_time": "2022-09-17T07:40:53.376137Z"
    }
   },
   "outputs": [
    {
     "data": {
      "text/plain": [
       "F_onewayResult(statistic=118.70421654401437, pvalue=2.1156708949992414e-57)"
      ]
     },
     "execution_count": 7,
     "metadata": {},
     "output_type": "execute_result"
    }
   ],
   "source": [
    "stats.f_oneway(df1.iloc[:,0], df1.iloc[:,1],df1.iloc[:,2],df1.iloc[:,3])      "
   ]
  },
  {
   "cell_type": "code",
   "execution_count": 8,
   "id": "1ec0a7a4",
   "metadata": {
    "ExecuteTime": {
     "end_time": "2022-09-17T07:40:53.406356Z",
     "start_time": "2022-09-17T07:40:53.391083Z"
    }
   },
   "outputs": [
    {
     "name": "stdout",
     "output_type": "stream",
     "text": [
      "We reject null hypothesis \n",
      "At least one of these 4 labs have Significantly different average TAT of reports from others.\n"
     ]
    }
   ],
   "source": [
    "if stats.f_oneway(df1.iloc[:,0], df1.iloc[:,1],df1.iloc[:,2],df1.iloc[:,3])[1] > 0.025 :\n",
    "    print(\" We fail to reject null hypothesis due to lack of evidence \\n No significant difference in average TAT of reports from these 4 labs \")\n",
    "\n",
    "else: \n",
    "    print(\"We reject null hypothesis \\nAt least one of these 4 labs have Significantly different average TAT of reports from others.\")"
   ]
  },
  {
   "cell_type": "markdown",
   "id": "0e3e89c3",
   "metadata": {
    "ExecuteTime": {
     "end_time": "2022-09-13T10:18:15.285191Z",
     "start_time": "2022-09-13T10:18:15.259038Z"
    }
   },
   "source": [
    "### 3. Sales of products in four different regions is tabulated for males and females. Find if male-female buyer rations are similar across regions. East: Male=50, Female=550; West: Male=142, Female=351; South: Male=70, Female=350; North: Male=131, Female=480"
   ]
  },
  {
   "cell_type": "code",
   "execution_count": 9,
   "id": "6f1408ff",
   "metadata": {
    "ExecuteTime": {
     "end_time": "2022-09-17T07:40:53.436743Z",
     "start_time": "2022-09-17T07:40:53.406356Z"
    }
   },
   "outputs": [
    {
     "data": {
      "text/html": [
       "<div>\n",
       "<style scoped>\n",
       "    .dataframe tbody tr th:only-of-type {\n",
       "        vertical-align: middle;\n",
       "    }\n",
       "\n",
       "    .dataframe tbody tr th {\n",
       "        vertical-align: top;\n",
       "    }\n",
       "\n",
       "    .dataframe thead th {\n",
       "        text-align: right;\n",
       "    }\n",
       "</style>\n",
       "<table border=\"1\" class=\"dataframe\">\n",
       "  <thead>\n",
       "    <tr style=\"text-align: right;\">\n",
       "      <th></th>\n",
       "      <th>East</th>\n",
       "      <th>West</th>\n",
       "      <th>North</th>\n",
       "      <th>South</th>\n",
       "    </tr>\n",
       "    <tr>\n",
       "      <th>Observed Values</th>\n",
       "      <th></th>\n",
       "      <th></th>\n",
       "      <th></th>\n",
       "      <th></th>\n",
       "    </tr>\n",
       "  </thead>\n",
       "  <tbody>\n",
       "    <tr>\n",
       "      <th>Males</th>\n",
       "      <td>50</td>\n",
       "      <td>142</td>\n",
       "      <td>131</td>\n",
       "      <td>70</td>\n",
       "    </tr>\n",
       "    <tr>\n",
       "      <th>Females</th>\n",
       "      <td>435</td>\n",
       "      <td>1523</td>\n",
       "      <td>1356</td>\n",
       "      <td>750</td>\n",
       "    </tr>\n",
       "  </tbody>\n",
       "</table>\n",
       "</div>"
      ],
      "text/plain": [
       "                 East  West  North  South\n",
       "Observed Values                          \n",
       "Males              50   142    131     70\n",
       "Females           435  1523   1356    750"
      ]
     },
     "execution_count": 9,
     "metadata": {},
     "output_type": "execute_result"
    }
   ],
   "source": [
    "df5=pd.read_csv(\"BuyerRatio.csv\", index_col=0) \n",
    "df5.head()"
   ]
  },
  {
   "cell_type": "markdown",
   "id": "2d1a85cd",
   "metadata": {},
   "source": [
    "H0: male-female buyer ratios are similar across regions\n",
    "\n",
    "H1: male-female buyer ratios have signicicant difference across regions"
   ]
  },
  {
   "cell_type": "markdown",
   "id": "3ec10ed3",
   "metadata": {},
   "source": [
    "Chi Square Test"
   ]
  },
  {
   "cell_type": "markdown",
   "id": "0fd0d4ba",
   "metadata": {},
   "source": [
    "For a two-tailed 95% confidence interval, significance level is 5% & the alpha value is 0.025"
   ]
  },
  {
   "cell_type": "code",
   "execution_count": 10,
   "id": "3309f834",
   "metadata": {
    "ExecuteTime": {
     "end_time": "2022-09-17T07:40:53.452664Z",
     "start_time": "2022-09-17T07:40:53.436743Z"
    }
   },
   "outputs": [
    {
     "data": {
      "text/plain": [
       "(1.595945538661058,\n",
       " 0.6603094907091882,\n",
       " 3,\n",
       " array([[  42.76531299,  146.81287862,  131.11756787,   72.30424052],\n",
       "        [ 442.23468701, 1518.18712138, 1355.88243213,  747.69575948]]))"
      ]
     },
     "execution_count": 10,
     "metadata": {},
     "output_type": "execute_result"
    }
   ],
   "source": [
    "stats.chi2_contingency(df5)  "
   ]
  },
  {
   "cell_type": "code",
   "execution_count": 11,
   "id": "879b6511",
   "metadata": {
    "ExecuteTime": {
     "end_time": "2022-09-17T07:40:53.468790Z",
     "start_time": "2022-09-17T07:40:53.452664Z"
    }
   },
   "outputs": [
    {
     "name": "stdout",
     "output_type": "stream",
     "text": [
      " We fail to reject null hypothesis due to lack of evidence \n",
      " No significant difference in male-female buyer ratios across regions\n"
     ]
    }
   ],
   "source": [
    "if stats.chi2_contingency(df5)[1] > 0.025:\n",
    "    print(\" We fail to reject null hypothesis due to lack of evidence \\n No significant difference in male-female buyer ratios across regions\")\n",
    "else:  \n",
    "     print(\"We reject null hypothesis \\nAt least one of these 4 regions have Significantly different male-female buyer ratios\") "
   ]
  },
  {
   "cell_type": "markdown",
   "id": "86d2b359",
   "metadata": {
    "ExecuteTime": {
     "end_time": "2022-09-13T10:23:16.057842Z",
     "start_time": "2022-09-13T10:23:16.038806Z"
    }
   },
   "source": [
    "### 4. TeleCall uses 4 centers around the globe to process customer order forms. They audit a certain %  of the customer order forms. Any error in order form renders it defective and has to be reworked before processing.  The manager wants to check whether the defective %  varies by centre. Please analyze the data at 5% significance level and help the manager draw appropriate inferences\n"
   ]
  },
  {
   "cell_type": "code",
   "execution_count": 12,
   "id": "b4df7b35",
   "metadata": {
    "ExecuteTime": {
     "end_time": "2022-09-17T07:40:53.502507Z",
     "start_time": "2022-09-17T07:40:53.472146Z"
    }
   },
   "outputs": [
    {
     "data": {
      "text/html": [
       "<div>\n",
       "<style scoped>\n",
       "    .dataframe tbody tr th:only-of-type {\n",
       "        vertical-align: middle;\n",
       "    }\n",
       "\n",
       "    .dataframe tbody tr th {\n",
       "        vertical-align: top;\n",
       "    }\n",
       "\n",
       "    .dataframe thead th {\n",
       "        text-align: right;\n",
       "    }\n",
       "</style>\n",
       "<table border=\"1\" class=\"dataframe\">\n",
       "  <thead>\n",
       "    <tr style=\"text-align: right;\">\n",
       "      <th></th>\n",
       "      <th>Phillippines</th>\n",
       "      <th>Indonesia</th>\n",
       "      <th>Malta</th>\n",
       "      <th>India</th>\n",
       "    </tr>\n",
       "  </thead>\n",
       "  <tbody>\n",
       "    <tr>\n",
       "      <th>0</th>\n",
       "      <td>Error Free</td>\n",
       "      <td>Error Free</td>\n",
       "      <td>Defective</td>\n",
       "      <td>Error Free</td>\n",
       "    </tr>\n",
       "    <tr>\n",
       "      <th>1</th>\n",
       "      <td>Error Free</td>\n",
       "      <td>Error Free</td>\n",
       "      <td>Error Free</td>\n",
       "      <td>Defective</td>\n",
       "    </tr>\n",
       "    <tr>\n",
       "      <th>2</th>\n",
       "      <td>Error Free</td>\n",
       "      <td>Defective</td>\n",
       "      <td>Defective</td>\n",
       "      <td>Error Free</td>\n",
       "    </tr>\n",
       "    <tr>\n",
       "      <th>3</th>\n",
       "      <td>Error Free</td>\n",
       "      <td>Error Free</td>\n",
       "      <td>Error Free</td>\n",
       "      <td>Error Free</td>\n",
       "    </tr>\n",
       "    <tr>\n",
       "      <th>4</th>\n",
       "      <td>Error Free</td>\n",
       "      <td>Error Free</td>\n",
       "      <td>Defective</td>\n",
       "      <td>Error Free</td>\n",
       "    </tr>\n",
       "    <tr>\n",
       "      <th>...</th>\n",
       "      <td>...</td>\n",
       "      <td>...</td>\n",
       "      <td>...</td>\n",
       "      <td>...</td>\n",
       "    </tr>\n",
       "    <tr>\n",
       "      <th>295</th>\n",
       "      <td>Error Free</td>\n",
       "      <td>Error Free</td>\n",
       "      <td>Error Free</td>\n",
       "      <td>Error Free</td>\n",
       "    </tr>\n",
       "    <tr>\n",
       "      <th>296</th>\n",
       "      <td>Error Free</td>\n",
       "      <td>Error Free</td>\n",
       "      <td>Error Free</td>\n",
       "      <td>Error Free</td>\n",
       "    </tr>\n",
       "    <tr>\n",
       "      <th>297</th>\n",
       "      <td>Error Free</td>\n",
       "      <td>Error Free</td>\n",
       "      <td>Defective</td>\n",
       "      <td>Error Free</td>\n",
       "    </tr>\n",
       "    <tr>\n",
       "      <th>298</th>\n",
       "      <td>Error Free</td>\n",
       "      <td>Error Free</td>\n",
       "      <td>Error Free</td>\n",
       "      <td>Error Free</td>\n",
       "    </tr>\n",
       "    <tr>\n",
       "      <th>299</th>\n",
       "      <td>Error Free</td>\n",
       "      <td>Defective</td>\n",
       "      <td>Defective</td>\n",
       "      <td>Error Free</td>\n",
       "    </tr>\n",
       "  </tbody>\n",
       "</table>\n",
       "<p>300 rows × 4 columns</p>\n",
       "</div>"
      ],
      "text/plain": [
       "    Phillippines   Indonesia       Malta       India\n",
       "0     Error Free  Error Free   Defective  Error Free\n",
       "1     Error Free  Error Free  Error Free   Defective\n",
       "2     Error Free   Defective   Defective  Error Free\n",
       "3     Error Free  Error Free  Error Free  Error Free\n",
       "4     Error Free  Error Free   Defective  Error Free\n",
       "..           ...         ...         ...         ...\n",
       "295   Error Free  Error Free  Error Free  Error Free\n",
       "296   Error Free  Error Free  Error Free  Error Free\n",
       "297   Error Free  Error Free   Defective  Error Free\n",
       "298   Error Free  Error Free  Error Free  Error Free\n",
       "299   Error Free   Defective   Defective  Error Free\n",
       "\n",
       "[300 rows x 4 columns]"
      ]
     },
     "execution_count": 12,
     "metadata": {},
     "output_type": "execute_result"
    }
   ],
   "source": [
    "df3=pd.read_csv(\"Costomer+OrderForm.csv\")\n",
    "df3"
   ]
  },
  {
   "cell_type": "code",
   "execution_count": 13,
   "id": "e6b1b2a1",
   "metadata": {
    "ExecuteTime": {
     "end_time": "2022-09-17T07:40:53.600445Z",
     "start_time": "2022-09-17T07:40:53.507418Z"
    }
   },
   "outputs": [],
   "source": [
    "country=[]\n",
    "error=[]\n",
    "\n",
    "for i in range (0,4):\n",
    "    for j in range (0,300): \n",
    "        if df3.iloc[j,i] == \"Error Free\":\n",
    "            error.append(\"Error Free\")\n",
    "            country.append(df3.columns[i])\n",
    "        elif df3.iloc[j,i]==\"Defective\":\n",
    "             error.append(\"Defective\")\n",
    "             country.append(df3.columns[i])\n",
    "    "
   ]
  },
  {
   "cell_type": "code",
   "execution_count": 14,
   "id": "d83ebf25",
   "metadata": {
    "ExecuteTime": {
     "end_time": "2022-09-17T07:40:53.619924Z",
     "start_time": "2022-09-17T07:40:53.600445Z"
    }
   },
   "outputs": [],
   "source": [
    "df4=pd.DataFrame()\n",
    "df4['country']=country\n",
    "df4[\"Error\"]=error "
   ]
  },
  {
   "cell_type": "code",
   "execution_count": 15,
   "id": "288f2821",
   "metadata": {
    "ExecuteTime": {
     "end_time": "2022-09-17T07:40:53.685847Z",
     "start_time": "2022-09-17T07:40:53.631216Z"
    }
   },
   "outputs": [
    {
     "data": {
      "text/html": [
       "<div>\n",
       "<style scoped>\n",
       "    .dataframe tbody tr th:only-of-type {\n",
       "        vertical-align: middle;\n",
       "    }\n",
       "\n",
       "    .dataframe tbody tr th {\n",
       "        vertical-align: top;\n",
       "    }\n",
       "\n",
       "    .dataframe thead th {\n",
       "        text-align: right;\n",
       "    }\n",
       "</style>\n",
       "<table border=\"1\" class=\"dataframe\">\n",
       "  <thead>\n",
       "    <tr style=\"text-align: right;\">\n",
       "      <th>country</th>\n",
       "      <th>India</th>\n",
       "      <th>Indonesia</th>\n",
       "      <th>Malta</th>\n",
       "      <th>Phillippines</th>\n",
       "    </tr>\n",
       "    <tr>\n",
       "      <th>Error</th>\n",
       "      <th></th>\n",
       "      <th></th>\n",
       "      <th></th>\n",
       "      <th></th>\n",
       "    </tr>\n",
       "  </thead>\n",
       "  <tbody>\n",
       "    <tr>\n",
       "      <th>Defective</th>\n",
       "      <td>20</td>\n",
       "      <td>33</td>\n",
       "      <td>31</td>\n",
       "      <td>29</td>\n",
       "    </tr>\n",
       "    <tr>\n",
       "      <th>Error Free</th>\n",
       "      <td>280</td>\n",
       "      <td>267</td>\n",
       "      <td>269</td>\n",
       "      <td>271</td>\n",
       "    </tr>\n",
       "  </tbody>\n",
       "</table>\n",
       "</div>"
      ],
      "text/plain": [
       "country     India  Indonesia  Malta  Phillippines\n",
       "Error                                            \n",
       "Defective      20         33     31            29\n",
       "Error Free    280        267    269           271"
      ]
     },
     "execution_count": 15,
     "metadata": {},
     "output_type": "execute_result"
    }
   ],
   "source": [
    "defect=pd.crosstab(df4.Error, df4.country) \n",
    "defect "
   ]
  },
  {
   "cell_type": "markdown",
   "id": "3535ebb1",
   "metadata": {
    "ExecuteTime": {
     "end_time": "2022-09-14T12:05:31.789959Z",
     "start_time": "2022-09-14T12:05:31.776709Z"
    }
   },
   "source": [
    "H0= No significant difference in defective % among 4 centers.\n",
    "\n",
    "H1= significant difference in defective % among 4 centers."
   ]
  },
  {
   "cell_type": "markdown",
   "id": "b20d88e0",
   "metadata": {},
   "source": [
    "Chi Square Test"
   ]
  },
  {
   "cell_type": "markdown",
   "id": "70334e36",
   "metadata": {},
   "source": [
    "For a two-tailed 95% confidence interval, significance level is 5% & the alpha value is 0.025"
   ]
  },
  {
   "cell_type": "code",
   "execution_count": 16,
   "id": "52fd27a6",
   "metadata": {
    "ExecuteTime": {
     "end_time": "2022-09-17T07:40:53.701842Z",
     "start_time": "2022-09-17T07:40:53.685847Z"
    }
   },
   "outputs": [
    {
     "data": {
      "text/plain": [
       "(3.858960685820355,\n",
       " 0.2771020991233135,\n",
       " 3,\n",
       " array([[ 28.25,  28.25,  28.25,  28.25],\n",
       "        [271.75, 271.75, 271.75, 271.75]]))"
      ]
     },
     "execution_count": 16,
     "metadata": {},
     "output_type": "execute_result"
    }
   ],
   "source": [
    "stats.chi2_contingency(defect) "
   ]
  },
  {
   "cell_type": "code",
   "execution_count": 17,
   "id": "2f76a72a",
   "metadata": {
    "ExecuteTime": {
     "end_time": "2022-09-17T07:40:53.717909Z",
     "start_time": "2022-09-17T07:40:53.704216Z"
    }
   },
   "outputs": [
    {
     "name": "stdout",
     "output_type": "stream",
     "text": [
      " We fail to reject null hypothesis due to lack of evidence \n",
      " No significant difference in defective % among 4 centers.\n"
     ]
    }
   ],
   "source": [
    "if stats.chi2_contingency(defect)[1] > 0.025:\n",
    "    print(\" We fail to reject null hypothesis due to lack of evidence \\n No significant difference in defective % among 4 centers.\")\n",
    "else:  \n",
    "     print(\"We reject null hypothesis \\nAt least one of these 4 centers have Significantly different defective % \") "
   ]
  }
 ],
 "metadata": {
  "kernelspec": {
   "display_name": "Python 3 (ipykernel)",
   "language": "python",
   "name": "python3"
  },
  "language_info": {
   "codemirror_mode": {
    "name": "ipython",
    "version": 3
   },
   "file_extension": ".py",
   "mimetype": "text/x-python",
   "name": "python",
   "nbconvert_exporter": "python",
   "pygments_lexer": "ipython3",
   "version": "3.9.12"
  }
 },
 "nbformat": 4,
 "nbformat_minor": 5
}
